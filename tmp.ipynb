{
 "cells": [
  {
   "cell_type": "code",
   "execution_count": 1,
   "id": "4144e5fe-65f4-45d5-ad9a-bf5cb7844626",
   "metadata": {},
   "outputs": [
    {
     "name": "stderr",
     "output_type": "stream",
     "text": [
      "/homes/d22zhu/miniconda3/envs/4dcore/lib/python3.9/site-packages/tqdm/auto.py:21: TqdmWarning: IProgress not found. Please update jupyter and ipywidgets. See https://ipywidgets.readthedocs.io/en/stable/user_install.html\n",
      "  from .autonotebook import tqdm as notebook_tqdm\n"
     ]
    }
   ],
   "source": [
    "from pprint import pprint\n",
    "\n",
    "import hydra\n",
    "import torch\n",
    "from omegaconf import OmegaConf"
   ]
  },
  {
   "cell_type": "code",
   "execution_count": 2,
   "id": "8e3d8077-041d-471b-82e2-2cf3f59a5bda",
   "metadata": {},
   "outputs": [],
   "source": [
    "def get_checkpoint_dict(path):\n",
    "    checkpoint = torch.load(path)\n",
    "    return checkpoint"
   ]
  },
  {
   "cell_type": "code",
   "execution_count": 3,
   "id": "1acd4c59-3ada-46c7-a11d-24735060a228",
   "metadata": {},
   "outputs": [],
   "source": [
    "def compare(a, b):\n",
    "    _max = max(len(key) for key in a.keys()) + 2\n",
    "    for key in a.keys():\n",
    "        b_val = b.get(key, None)\n",
    "        flag_present = 'X' if b_val is None else ' '\n",
    "        flag_different = 'X' if a[key] != b_val else ' '\n",
    "        print(f'[{flag_present}{flag_different}] {key:{_max}}: {a[key]} | {b_val}')"
   ]
  },
  {
   "cell_type": "code",
   "execution_count": 4,
   "id": "6938375e-dc89-4e4f-9b81-4711e3824864",
   "metadata": {},
   "outputs": [],
   "source": [
    "XP_list = [\n",
    "    '4DVarNet-SSH-SST',\n",
    "    '4DVarNet-SSH-only',\n",
    "    'U-Net-SSH-SST',\n",
    "    'U-Net-SSH-only',\n",
    "]\n",
    "\n",
    "XP = XP_list[3]"
   ]
  },
  {
   "cell_type": "code",
   "execution_count": 5,
   "id": "0b8c5aa2-5ba6-4a01-a895-f823a1f64549",
   "metadata": {},
   "outputs": [
    {
     "name": "stderr",
     "output_type": "stream",
     "text": [
      "/homes/d22zhu/miniconda3/envs/4dcore/lib/python3.9/site-packages/xarray/backends/cfgrib_.py:27: UserWarning: Failed to load cfgrib - most likely there is a problem accessing the ecCodes library. Try `import cfgrib` to get the full error message\n",
      "  warnings.warn(\n"
     ]
    }
   ],
   "source": [
    "a = get_checkpoint_dict(f'TrainedModels/{XP}.ckpt')\n",
    "\n",
    "with hydra.initialize(version_base=None, config_path='hydra_config'):\n",
    "    b = hydra.compose(overrides=[f'+xp={XP}', '+entrypoint=train', '+file_paths=_LOCAL_imt'])"
   ]
  },
  {
   "cell_type": "code",
   "execution_count": 7,
   "id": "9e29a0d2-d0f9-4c83-8d41-4150b6da7b96",
   "metadata": {},
   "outputs": [
    {
     "name": "stdout",
     "output_type": "stream",
     "text": [
      "[ X] files_cfg                    : {'oi_path': '/gpfsstore/rech/yrf/commun/NATL60/NATL/oi/ssh_NATL60_swot_4nadir.nc', 'oi_var': 'ssh_mod', 'obs_mask_path': '/gpfsstore/rech/yrf/commun/NATL60/NATL/data_new/dataset_nadir_0d_swot.nc', 'obs_mask_var': 'ssh_mod', 'gt_path': '/gpfsdsstore/projects/rech/yrf/commun/NATL60/NATL/ref_new/NATL60-CJM165_NATL_ssh_y2013.1y.nc', 'gt_var': 'ssh', 'u_path': '/gpfsdsstore/projects/rech/yrf/commun/NATL60/NATL/ref_new/NATL60-CJM165_NATL_u_y2013.1y.nc', 'u_var': 'u', 'v_path': '/gpfsdsstore/projects/rech/yrf/commun/NATL60/NATL/ref_new/NATL60-CJM165_NATL_v_y2013.1y.nc', 'v_var': 'v'} | {'oi_path': '${file_paths.oi_swot_4nadir}', 'oi_var': 'ssh_mod', 'obs_mask_path': '${file_paths.pseudo_obs}', 'obs_mask_var': 'ssh_mod', 'gt_path': '${file_paths.natl_ssh_daily}', 'gt_var': 'ssh', 'u_path': '${file_paths.natl_u_daily}', 'u_var': 'u', 'v_path': '${file_paths.natl_v_daily}', 'v_var': 'v'}\n",
      "[  ] iter_update                  : [0, 200, 400, 600, 1000, 1500, 8000] | [0, 200, 400, 600, 1000, 1500, 8000]\n",
      "[  ] nb_grad_update               : [5, 5, 5, 5, 5, 5, 5, 5, 5] | [5, 5, 5, 5, 5, 5, 5, 5, 5]\n",
      "[  ] lr_update                    : [0.001, 0.001, 0.001, 0.001, 0.001, 0.001, 0.001, 0.001, 0.001] | [0.001, 0.001, 0.001, 0.001, 0.001, 0.001, 0.001, 0.001, 0.001]\n",
      "[  ] n_fourdvar_iter              : 3 | 3\n",
      "[XX] weight_decay                 : ??? | None\n",
      "[  ] model                        : 4dvarnet_sst | 4dvarnet_sst\n",
      "[  ] sst                          : True | True\n",
      "[  ] val_diag_freq                : 5 | 5\n",
      "[  ] n_grad                       : 0 | 0\n",
      "[  ] dT                           : 7 | 7\n",
      "[  ] aug_state                    : True | True\n",
      "[ X] shape_data                   : [35, 240, 240] | ['${mul:${datamodule.slice_win.time},5}', '${datamodule.slice_win.lon}', '${datamodule.slice_win.lat}']\n",
      "[ X] shape_state                  : [35, 240, 240] | ['${mul:${datamodule.slice_win.time},5}', '${datamodule.slice_win.lon}', '${datamodule.slice_win.lat}']\n",
      "[  ] dW                           : 3 | 3\n",
      "[  ] dW2                          : 1 | 1\n",
      "[  ] sS                           : 4 | 4\n",
      "[  ] stochastic                   : False | False\n",
      "[  ] animate                      : False | False\n",
      "[  ] UsePriodicBoundary           : False | False\n",
      "[  ] nbBlocks                     : 1 | 1\n",
      "[  ] DimAE                        : 50 | 50\n",
      "[  ] dim_grad_solver              : 150 | 150\n",
      "[  ] dropout                      : 0.25 | 0.25\n",
      "[  ] dropout_phi_r                : 0.0 | 0.0\n",
      "[  ] alpha_mse_ssh                : 50.0 | 50.0\n",
      "[  ] alpha_mse_gssh               : 1000.0 | 1000.0\n",
      "[  ] alpha_proj                   : 0.5 | 0.5\n",
      "[  ] alpha_sr                     : 0.5 | 0.5\n",
      "[  ] alpha_lr                     : 0.5 | 0.5\n",
      "[  ] sig_filter_div               : 1.0 | 1.0\n",
      "[  ] automatic_optimization       : True | True\n",
      "[  ] ckpt_name                    : modelUVwSSTGF-{epoch:02d}-{val_loss:.4f} | modelUVwSSTGF-{epoch:02d}-{val_loss:.4f}\n",
      "[  ] norm_obs                     : l2 | l2\n",
      "[  ] norm_prior                   : l2 | l2\n",
      "[ X] patch_weight                 : {'_target_': 'lit_model_uv.get_cropped_hanning_mask', 'patch_size': {'lat': 240, 'lon': 240, 'time': 7}, 'crop': {'lat': 20, 'lon': 20, 'time': 1}} | {'_target_': 'lit_model_augstate.get_cropped_hanning_mask', 'patch_size': '${datamodule.slice_win}', 'crop': {'lat': '${div:20,${datamodule.resize_factor}}', 'lon': '${div:20,${datamodule.resize_factor}}', 'time': 1}}\n",
      "[  ] median_filter_width          : 1 | 1\n",
      "[  ] test_domain                  : {'lat': {'_target_': 'builtins.slice', '_args_': [33.0, 43.0]}, 'lon': {'_target_': 'builtins.slice', '_args_': [-65.0, -55.0]}} | {'lat': {'_target_': 'builtins.slice', '_args_': [33.0, 43.0]}, 'lon': {'_target_': 'builtins.slice', '_args_': [-65.0, -55.0]}}\n",
      "[  ] flag_update_training_config  : False | False\n",
      "[  ] sst_model                    : nolinear-tanh-bn | nolinear-tanh-bn\n",
      "[  ] k_n_grad                     : 1 | 1\n",
      "[  ] scale_dwscaling              : 1.0 | 1\n",
      "[  ] dim_obs_sst_feat             : 20 | 20\n",
      "[  ] phi_param                    : unet1 | unet1\n",
      "[  ] use_sst_obs                  : False | False\n",
      "[  ] use_sst_state                : False | False\n",
      "[  ] padding_mode                 : reflect | reflect\n",
      "[  ] residual_wrt_geo_velocities  : 0 | 0\n",
      "[  ] type_div_train_loss          : 1 | 1\n",
      "[  ] alpha_mse_uv                 : 50.0 | 50.0\n",
      "[  ] alpha_mse_uv_geo             : 25.0 | 25\n",
      "[  ] alpha_mse_div                : 1000.0 | 1000.0\n",
      "[  ] alpha_mse_strain             : 0.0 | 0.0\n",
      "[  ] sampling_model               : sampling-from-sst | sampling-from-sst\n",
      "[  ] nb_feat_sampling_operator    : 0 | 0\n",
      "[  ] alpha_sampling_uv            : 10.0 | 10.0\n",
      "[  ] thr_l1_sampling_uv           : 0.1 | 0.1\n",
      "[XX] w_loss                       : tensor([0., 0., 0., 1., 0., 0., 0.]) | None\n",
      "[XX] mean_Tr                      : 0.31446309894037083 | None\n",
      "[XX] mean_Tt                      : 0.31446309894037083 | None\n",
      "[XX] mean_Val                     : 0.31446309894037083 | None\n",
      "[XX] var_Tr                       : 0.15105733360416826 | None\n",
      "[XX] var_Tt                       : 0.15105733360416826 | None\n",
      "[XX] var_Val                      : 0.15105733360416826 | None\n",
      "[XX] var_tr_uv                    : 0.2598186270498152 | None\n",
      "[XX] resolution                   : 0.05 | None\n",
      "[XX] original_coords              : Coordinates:\n",
      "  * lon      (lon) float64 -65.95 -65.9 -65.85 -65.8 ... -54.1 -54.05 -54.0\n",
      "  * lat      (lat) float64 32.0 32.05 32.1 32.15 32.2 ... 43.8 43.85 43.9 43.95\n",
      "  * time     (time) datetime64[ns] 2012-10-20T12:00:00 ... 2012-12-04T12:00:00 | None\n",
      "[XX] padded_coords                : Coordinates:\n",
      "  * lon      (lon) float64 -65.95 -65.9 -65.85 -65.8 ... -54.1 -54.05 -54.0\n",
      "  * lat      (lat) float64 32.0 32.05 32.1 32.15 32.2 ... 43.8 43.85 43.9 43.95\n",
      "  * time     (time) datetime64[ns] 2012-10-20T12:00:00 ... 2012-12-04T12:00:00 | None\n"
     ]
    }
   ],
   "source": [
    "compare(a['hyper_parameters'], b['params'])"
   ]
  },
  {
   "cell_type": "code",
   "execution_count": 14,
   "id": "7dc2e3b6-ed03-41eb-872c-42022e1c4471",
   "metadata": {},
   "outputs": [
    {
     "data": {
      "text/plain": [
       "{'_target_': 'dataloading_uv.FourDVarNetDataModule',\n",
       " 'slice_win': {'lat': '${div:240,${datamodule.resize_factor}}', 'lon': '${div:240,${datamodule.resize_factor}}', 'time': '${params.dT}'},\n",
       " 'strides': {'lat': 20, 'lon': 20, 'time': 1},\n",
       " 'train_slices': [{'_target_': 'builtins.slice', '_args_': ['2013-02-04', '2013-09-30']}],\n",
       " 'test_slices': [{'_target_': 'builtins.slice', '_args_': \"${adjust_testslices:['2012-10-22', '2012-12-02'],${params.dT}}\"}],\n",
       " 'val_slices': [{'_target_': 'builtins.slice', '_args_': ['2013-01-01', '2013-02-04']}],\n",
       " 'oi_path': '/DATASET/NATL/ssh_NATL60_swot_4nadir.nc',\n",
       " 'oi_var': 'ssh_mod',\n",
       " 'obs_mask_path': '/DATASET/NATL/dataset_nadir_0d_swot.nc',\n",
       " 'obs_mask_var': 'ssh_mod',\n",
       " 'gt_path': '/DATASET/NATL/NATL60-CJM165_NATL_ssh_y2013.1y.nc',\n",
       " 'gt_var': 'ssh',\n",
       " 'sst_path': '/DATASET/NATL/NATL60-CJM165_NATL_sst_y2013.1y.nc',\n",
       " 'sst_var': 'sst',\n",
       " 'u_path': '/DATASET/NATL/NATL60-CJM165_NATL_u_y2013.1y.nc',\n",
       " 'u_var': 'u',\n",
       " 'v_path': '/DATASET/NATL/NATL60-CJM165_NATL_v_y2013.1y.nc',\n",
       " 'v_var': 'v',\n",
       " 'aug_train_data': True,\n",
       " 'resolution': '1/20',\n",
       " 'dl_kwargs': {'batch_size': 2, 'num_workers': 2},\n",
       " 'dim_range': {'lat': {'_target_': 'builtins.slice', '_args_': [32.0, 44.0]}, 'lon': {'_target_': 'builtins.slice', '_args_': [-66.0, -54.0]}},\n",
       " 'resize_factor': 1}"
      ]
     },
     "execution_count": 14,
     "metadata": {},
     "output_type": "execute_result"
    }
   ],
   "source": [
    "dict(b.datamodule)"
   ]
  },
  {
   "cell_type": "code",
   "execution_count": null,
   "id": "eae2cbca-066f-4fc0-b993-69e6b828644f",
   "metadata": {},
   "outputs": [],
   "source": []
  }
 ],
 "metadata": {
  "kernelspec": {
   "display_name": "Python 3 (ipykernel)",
   "language": "python",
   "name": "python3"
  },
  "language_info": {
   "codemirror_mode": {
    "name": "ipython",
    "version": 3
   },
   "file_extension": ".py",
   "mimetype": "text/x-python",
   "name": "python",
   "nbconvert_exporter": "python",
   "pygments_lexer": "ipython3",
   "version": "3.9.16"
  }
 },
 "nbformat": 4,
 "nbformat_minor": 5
}
